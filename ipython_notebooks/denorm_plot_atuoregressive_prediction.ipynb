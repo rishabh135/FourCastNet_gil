{
 "cells": [
  {
   "cell_type": "code",
   "execution_count": 7,
   "id": "41827740-60e2-4cc7-9796-e7b4da7348c7",
   "metadata": {},
   "outputs": [],
   "source": [
    "import h5py\n",
    "import numpy as np\n",
    "import sys, os\n",
    "\n",
    "\n",
    "\n",
    "# era sst\n",
    "\n",
    "import xarray as xr\n",
    "import numpy as np\n",
    "import pandas as pd\n",
    "\n",
    "import netCDF4\n",
    "from matplotlib import pyplot as plt\n",
    "import cartopy\n",
    "import cartopy.crs as ccrs\n",
    "import cartopy.feature as cfeature\n",
    "from cartopy.mpl.gridliner import LONGITUDE_FORMATTER, LATITUDE_FORMATTER\n",
    "from datetime import datetime\n",
    "import matplotlib\n",
    "from matplotlib import cm\n",
    "import matplotlib.ticker as mticker\n",
    "import cmocean\n",
    "import cartopy.crs as ccrs\n",
    "import cartopy.feature as cfeature\n",
    "\n",
    "\n",
    "\n",
    "# era sst\n",
    "\n",
    "import xarray as xr\n",
    "import numpy as np\n",
    "import pandas as pd\n",
    "import netCDF4\n",
    "from matplotlib import pyplot as plt\n",
    "import cartopy\n",
    "import cartopy.crs as ccrs\n",
    "import cartopy.feature as cfeature\n",
    "from cartopy.mpl.gridliner import LONGITUDE_FORMATTER, LATITUDE_FORMATTER\n",
    "from datetime import datetime\n",
    "import matplotlib\n",
    "from matplotlib import cm\n",
    "import matplotlib.ticker as mticker\n",
    "import cmocean\n",
    "\n",
    "\n",
    "\n",
    "import boto3\n",
    "from botocore.handlers import disable_signing\n",
    "\n",
    "\n",
    "# using shapefile\n",
    "\n",
    "\n",
    "import cartopy.crs as ccrs\n",
    "import cartopy.feature as cfeature\n",
    "import cartopy.io.shapereader as shpreader\n",
    "import matplotlib.pyplot as plt\n",
    "\n",
    "\n",
    "# reader = shpreader.Reader('./texas_state.shp')\n",
    "# counties = list(reader.geometries())\n",
    "# COUNTIES = cfeature.ShapelyFeature(counties, ccrs.PlateCarree())\n",
    "\n",
    "\n",
    "\n",
    "import fsspec\n",
    "import cartopy.crs as ccrs\n",
    "import cartopy.feature as cfeature\n",
    "import matplotlib.pyplot as plt\n",
    "import matplotlib.colors as mcolors\n",
    "import matplotlib.dates as mdates\n",
    "from metpy.plots import USCOUNTIES\n",
    "import tqdm\n",
    "# import nexradaws\n",
    "# import pytz\n",
    "\n",
    "\n",
    "import botocore\n",
    "\n",
    "\n",
    "\n",
    "\n",
    "# from matplotlib import animation\n",
    "import matplotlib.animation\n",
    "import matplotlib.pyplot as plt\n",
    "import numpy as np\n",
    "plt.rcParams[\"animation.html\"] = \"jshtml\"\n",
    "plt.rcParams['figure.dpi'] = 200  \n",
    "plt.ioff()\n",
    "plt.rcParams['animation.ffmpeg_path'] = '/scratch/gilbreth/wwtung/FourCastNet_ani/'"
   ]
  },
  {
   "cell_type": "code",
   "execution_count": null,
   "id": "9047ad29-9f74-49fb-967c-5be097da1305",
   "metadata": {},
   "outputs": [],
   "source": []
  },
  {
   "cell_type": "code",
   "execution_count": null,
   "id": "2909abf1-6262-4cfe-9ea4-93331fd1df10",
   "metadata": {},
   "outputs": [],
   "source": []
  },
  {
   "cell_type": "code",
   "execution_count": null,
   "id": "3b67538c-d0b5-40d3-9436-5acccdbef294",
   "metadata": {},
   "outputs": [],
   "source": []
  },
  {
   "cell_type": "code",
   "execution_count": 3,
   "id": "1c424d2a-e67f-44bb-8b7d-795c6a1a274f",
   "metadata": {},
   "outputs": [],
   "source": [
    "denorm_file =  \"/scratch/gilbreth/gupt1075/ERA5_denorm_expts_23rd_jan_2018_z500_trial_7/\""
   ]
  },
  {
   "cell_type": "code",
   "execution_count": null,
   "id": "bcd68ae7-8512-4663-97db-344a5bc5b48b",
   "metadata": {},
   "outputs": [],
   "source": []
  },
  {
   "cell_type": "code",
   "execution_count": 8,
   "id": "ac0cf559-1855-4d1b-a563-e458246df853",
   "metadata": {},
   "outputs": [
    {
     "name": "stdout",
     "output_type": "stream",
     "text": [
      "<KeysViewHDF5 ['acc', 'acc_coarse', 'acc_coarse_unweighted', 'acc_unweighted', 'rmse', 'rmse_coarse']>\n"
     ]
    },
    {
     "ename": "KeyError",
     "evalue": "\"Unable to open object (object 'fields' doesn't exist)\"",
     "output_type": "error",
     "traceback": [
      "\u001b[0;31m---------------------------------------------------------------------------\u001b[0m",
      "\u001b[0;31mKeyError\u001b[0m                                  Traceback (most recent call last)",
      "Cell \u001b[0;32mIn[8], line 4\u001b[0m\n\u001b[1;32m      2\u001b[0m \u001b[38;5;28;01mwith\u001b[39;00m h5py\u001b[38;5;241m.\u001b[39mFile(denorm_file, \u001b[38;5;124m'\u001b[39m\u001b[38;5;124mr\u001b[39m\u001b[38;5;124m'\u001b[39m) \u001b[38;5;28;01mas\u001b[39;00m hf:\n\u001b[1;32m      3\u001b[0m     \u001b[38;5;28mprint\u001b[39m(hf\u001b[38;5;241m.\u001b[39mkeys())\n\u001b[0;32m----> 4\u001b[0m     data \u001b[38;5;241m=\u001b[39m hf[\u001b[38;5;124m'\u001b[39m\u001b[38;5;124mfields\u001b[39m\u001b[38;5;124m'\u001b[39m]\n\u001b[1;32m      5\u001b[0m     \u001b[38;5;28mprint\u001b[39m(data\u001b[38;5;241m.\u001b[39mshape)\n\u001b[1;32m      6\u001b[0m     z500 \u001b[38;5;241m=\u001b[39m data[\u001b[38;5;241m0\u001b[39m,\u001b[38;5;241m14\u001b[39m]\n",
      "File \u001b[0;32mh5py/_objects.pyx:54\u001b[0m, in \u001b[0;36mh5py._objects.with_phil.wrapper\u001b[0;34m()\u001b[0m\n",
      "File \u001b[0;32mh5py/_objects.pyx:55\u001b[0m, in \u001b[0;36mh5py._objects.with_phil.wrapper\u001b[0;34m()\u001b[0m\n",
      "File \u001b[0;32m~/.conda/envs/cent7/2020.11-py38/chirain_pytorch/lib/python3.11/site-packages/h5py/_hl/group.py:357\u001b[0m, in \u001b[0;36mGroup.__getitem__\u001b[0;34m(self, name)\u001b[0m\n\u001b[1;32m    355\u001b[0m         \u001b[38;5;28;01mraise\u001b[39;00m \u001b[38;5;167;01mValueError\u001b[39;00m(\u001b[38;5;124m\"\u001b[39m\u001b[38;5;124mInvalid HDF5 object reference\u001b[39m\u001b[38;5;124m\"\u001b[39m)\n\u001b[1;32m    356\u001b[0m \u001b[38;5;28;01melif\u001b[39;00m \u001b[38;5;28misinstance\u001b[39m(name, (\u001b[38;5;28mbytes\u001b[39m, \u001b[38;5;28mstr\u001b[39m)):\n\u001b[0;32m--> 357\u001b[0m     oid \u001b[38;5;241m=\u001b[39m h5o\u001b[38;5;241m.\u001b[39mopen(\u001b[38;5;28mself\u001b[39m\u001b[38;5;241m.\u001b[39mid, \u001b[38;5;28mself\u001b[39m\u001b[38;5;241m.\u001b[39m_e(name), lapl\u001b[38;5;241m=\u001b[39m\u001b[38;5;28mself\u001b[39m\u001b[38;5;241m.\u001b[39m_lapl)\n\u001b[1;32m    358\u001b[0m \u001b[38;5;28;01melse\u001b[39;00m:\n\u001b[1;32m    359\u001b[0m     \u001b[38;5;28;01mraise\u001b[39;00m \u001b[38;5;167;01mTypeError\u001b[39;00m(\u001b[38;5;124m\"\u001b[39m\u001b[38;5;124mAccessing a group is done with bytes or str, \u001b[39m\u001b[38;5;124m\"\u001b[39m\n\u001b[1;32m    360\u001b[0m                     \u001b[38;5;124m\"\u001b[39m\u001b[38;5;124mnot \u001b[39m\u001b[38;5;132;01m{}\u001b[39;00m\u001b[38;5;124m\"\u001b[39m\u001b[38;5;241m.\u001b[39mformat(\u001b[38;5;28mtype\u001b[39m(name)))\n",
      "File \u001b[0;32mh5py/_objects.pyx:54\u001b[0m, in \u001b[0;36mh5py._objects.with_phil.wrapper\u001b[0;34m()\u001b[0m\n",
      "File \u001b[0;32mh5py/_objects.pyx:55\u001b[0m, in \u001b[0;36mh5py._objects.with_phil.wrapper\u001b[0;34m()\u001b[0m\n",
      "File \u001b[0;32mh5py/h5o.pyx:190\u001b[0m, in \u001b[0;36mh5py.h5o.open\u001b[0;34m()\u001b[0m\n",
      "\u001b[0;31mKeyError\u001b[0m: \"Unable to open object (object 'fields' doesn't exist)\""
     ]
    }
   ],
   "source": [
    "output_list = []\n",
    "\n",
    "directory= denorm_file\n",
    "output_frame = 0\n",
    "seq_real = f\"{directory}/seq_real_output_{output_frame}.npy\"\n",
    "seq_pred = f\"{directory}/seq_pred_output_{output_frame}.npy\"\n",
    "\n",
    "\n",
    "\n",
    "with open( seq_real , 'rb') as f:\n",
    "    a = np.load(f)\n",
    "    output_list.append(a)\n",
    "\n",
    "with open(seq_pred, 'rb') as f:\n",
    "    b = np.load(f)\n",
    "    output_list.append(b)\n",
    "\n",
    "print(f\" shape: {output_list[0].shape} \")"
   ]
  },
  {
   "cell_type": "code",
   "execution_count": null,
   "id": "42058c68-294f-4e92-9815-1ed5e3d2af6f",
   "metadata": {},
   "outputs": [],
   "source": []
  }
 ],
 "metadata": {
  "kernelspec": {
   "display_name": "chirain_pytorch",
   "language": "python",
   "name": "chirain_pytorch"
  },
  "language_info": {
   "codemirror_mode": {
    "name": "ipython",
    "version": 3
   },
   "file_extension": ".py",
   "mimetype": "text/x-python",
   "name": "python",
   "nbconvert_exporter": "python",
   "pygments_lexer": "ipython3",
   "version": "3.11.4"
  }
 },
 "nbformat": 4,
 "nbformat_minor": 5
}
