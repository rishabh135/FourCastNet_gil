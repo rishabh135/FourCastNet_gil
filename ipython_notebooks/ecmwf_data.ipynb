{
 "cells": [
  {
   "cell_type": "code",
   "execution_count": 11,
   "id": "b49af77f-cc77-4a52-abd6-1a5a61302eb7",
   "metadata": {},
   "outputs": [
    {
     "name": "stderr",
     "output_type": "stream",
     "text": [
      "2023-10-25 13:09:37,246 INFO Sending request to https://cds.climate.copernicus.eu/api/v2/resources/reanalysis-era5-pressure-levels\n",
      "2023-10-25 13:10:37,315 WARNING Connection error: [HTTPSConnectionPool(host='cds.climate.copernicus.eu', port=443): Max retries exceeded with url: /api/v2/resources/reanalysis-era5-pressure-levels (Caused by ConnectTimeoutError(<urllib3.connection.HTTPSConnection object at 0x2b0a8c749e10>, 'Connection to cds.climate.copernicus.eu timed out. (connect timeout=60)'))]. Attempt 1 of 500.\n",
      "2023-10-25 13:10:37,317 WARNING Retrying in 120 seconds\n"
     ]
    },
    {
     "ename": "KeyboardInterrupt",
     "evalue": "",
     "output_type": "error",
     "traceback": [
      "\u001b[0;31m---------------------------------------------------------------------------\u001b[0m",
      "\u001b[0;31mKeyboardInterrupt\u001b[0m                         Traceback (most recent call last)",
      "Cell \u001b[0;32mIn[11], line 33\u001b[0m\n\u001b[1;32m     30\u001b[0m \u001b[38;5;66;03m#api = { \"url\": \"https://cds.climate.copernicus.eu/api/v2\", \"key\": \"262708:87969e83-ce6a-48aa-afc7-e354a87d7de1\"}\u001b[39;00m\n\u001b[1;32m     32\u001b[0m c \u001b[38;5;241m=\u001b[39m cdsapi\u001b[38;5;241m.\u001b[39mClient()\n\u001b[0;32m---> 33\u001b[0m c\u001b[38;5;241m.\u001b[39mretrieve(\u001b[38;5;124m\"\u001b[39m\u001b[38;5;124mreanalysis-era5-pressure-levels\u001b[39m\u001b[38;5;124m\"\u001b[39m,\n\u001b[1;32m     34\u001b[0m {\n\u001b[1;32m     35\u001b[0m \u001b[38;5;124m\"\u001b[39m\u001b[38;5;124mvariable\u001b[39m\u001b[38;5;124m\"\u001b[39m: \u001b[38;5;124m\"\u001b[39m\u001b[38;5;124mtemperature\u001b[39m\u001b[38;5;124m\"\u001b[39m,\n\u001b[1;32m     36\u001b[0m \u001b[38;5;124m\"\u001b[39m\u001b[38;5;124mpressure_level\u001b[39m\u001b[38;5;124m\"\u001b[39m: \u001b[38;5;124m\"\u001b[39m\u001b[38;5;124m1000\u001b[39m\u001b[38;5;124m\"\u001b[39m,\n\u001b[1;32m     37\u001b[0m \u001b[38;5;124m\"\u001b[39m\u001b[38;5;124mproduct_type\u001b[39m\u001b[38;5;124m\"\u001b[39m: \u001b[38;5;124m\"\u001b[39m\u001b[38;5;124mreanalysis\u001b[39m\u001b[38;5;124m\"\u001b[39m,\n\u001b[1;32m     38\u001b[0m \u001b[38;5;124m\"\u001b[39m\u001b[38;5;124myear\u001b[39m\u001b[38;5;124m\"\u001b[39m: \u001b[38;5;124m\"\u001b[39m\u001b[38;5;124m2008\u001b[39m\u001b[38;5;124m\"\u001b[39m,\n\u001b[1;32m     39\u001b[0m \u001b[38;5;124m\"\u001b[39m\u001b[38;5;124mmonth\u001b[39m\u001b[38;5;124m\"\u001b[39m: \u001b[38;5;124m\"\u001b[39m\u001b[38;5;124m01\u001b[39m\u001b[38;5;124m\"\u001b[39m,\n\u001b[1;32m     40\u001b[0m \u001b[38;5;124m\"\u001b[39m\u001b[38;5;124mday\u001b[39m\u001b[38;5;124m\"\u001b[39m: \u001b[38;5;124m\"\u001b[39m\u001b[38;5;124m01\u001b[39m\u001b[38;5;124m\"\u001b[39m,\n\u001b[1;32m     41\u001b[0m \u001b[38;5;124m\"\u001b[39m\u001b[38;5;124mtime\u001b[39m\u001b[38;5;124m\"\u001b[39m: \u001b[38;5;124m\"\u001b[39m\u001b[38;5;124m12:00\u001b[39m\u001b[38;5;124m\"\u001b[39m,\n\u001b[1;32m     42\u001b[0m \u001b[38;5;124m\"\u001b[39m\u001b[38;5;124mformat\u001b[39m\u001b[38;5;124m\"\u001b[39m: \u001b[38;5;124m\"\u001b[39m\u001b[38;5;124mgrib\u001b[39m\u001b[38;5;124m\"\u001b[39m\n\u001b[1;32m     43\u001b[0m }, \u001b[38;5;124m\"\u001b[39m\u001b[38;5;124mdownload.grib\u001b[39m\u001b[38;5;124m\"\u001b[39m)\n",
      "File \u001b[0;32m~/.conda/envs/cent7/2020.11-py38/chirain_pytorch/lib/python3.11/site-packages/cdsapi/api.py:364\u001b[0m, in \u001b[0;36mClient.retrieve\u001b[0;34m(self, name, request, target)\u001b[0m\n\u001b[1;32m    363\u001b[0m \u001b[38;5;28;01mdef\u001b[39;00m \u001b[38;5;21mretrieve\u001b[39m(\u001b[38;5;28mself\u001b[39m, name, request, target\u001b[38;5;241m=\u001b[39m\u001b[38;5;28;01mNone\u001b[39;00m):\n\u001b[0;32m--> 364\u001b[0m     result \u001b[38;5;241m=\u001b[39m \u001b[38;5;28mself\u001b[39m\u001b[38;5;241m.\u001b[39m_api(\u001b[38;5;124m\"\u001b[39m\u001b[38;5;132;01m%s\u001b[39;00m\u001b[38;5;124m/resources/\u001b[39m\u001b[38;5;132;01m%s\u001b[39;00m\u001b[38;5;124m\"\u001b[39m \u001b[38;5;241m%\u001b[39m (\u001b[38;5;28mself\u001b[39m\u001b[38;5;241m.\u001b[39murl, name), request, \u001b[38;5;124m\"\u001b[39m\u001b[38;5;124mPOST\u001b[39m\u001b[38;5;124m\"\u001b[39m)\n\u001b[1;32m    365\u001b[0m     \u001b[38;5;28;01mif\u001b[39;00m target \u001b[38;5;129;01mis\u001b[39;00m \u001b[38;5;129;01mnot\u001b[39;00m \u001b[38;5;28;01mNone\u001b[39;00m:\n\u001b[1;32m    366\u001b[0m         result\u001b[38;5;241m.\u001b[39mdownload(target)\n",
      "File \u001b[0;32m~/.conda/envs/cent7/2020.11-py38/chirain_pytorch/lib/python3.11/site-packages/cdsapi/api.py:432\u001b[0m, in \u001b[0;36mClient._api\u001b[0;34m(self, url, request, method)\u001b[0m\n\u001b[1;32m    429\u001b[0m \u001b[38;5;28;01melse\u001b[39;00m:\n\u001b[1;32m    430\u001b[0m     action \u001b[38;5;241m=\u001b[39m session\u001b[38;5;241m.\u001b[39mpost\n\u001b[0;32m--> 432\u001b[0m result \u001b[38;5;241m=\u001b[39m \u001b[38;5;28mself\u001b[39m\u001b[38;5;241m.\u001b[39mrobust(action)(\n\u001b[1;32m    433\u001b[0m     url, json\u001b[38;5;241m=\u001b[39mrequest, verify\u001b[38;5;241m=\u001b[39m\u001b[38;5;28mself\u001b[39m\u001b[38;5;241m.\u001b[39mverify, timeout\u001b[38;5;241m=\u001b[39m\u001b[38;5;28mself\u001b[39m\u001b[38;5;241m.\u001b[39mtimeout\n\u001b[1;32m    434\u001b[0m )\n\u001b[1;32m    436\u001b[0m \u001b[38;5;28;01mif\u001b[39;00m \u001b[38;5;28mself\u001b[39m\u001b[38;5;241m.\u001b[39mforget:\n\u001b[1;32m    437\u001b[0m     \u001b[38;5;28;01mreturn\u001b[39;00m result\n",
      "File \u001b[0;32m~/.conda/envs/cent7/2020.11-py38/chirain_pytorch/lib/python3.11/site-packages/cdsapi/api.py:638\u001b[0m, in \u001b[0;36mClient.robust.<locals>.wrapped\u001b[0;34m(*args, **kwargs)\u001b[0m\n\u001b[1;32m    636\u001b[0m \u001b[38;5;28;01mif\u001b[39;00m tries \u001b[38;5;241m<\u001b[39m \u001b[38;5;28mself\u001b[39m\u001b[38;5;241m.\u001b[39mretry_max:\n\u001b[1;32m    637\u001b[0m     \u001b[38;5;28mself\u001b[39m\u001b[38;5;241m.\u001b[39mwarning(\u001b[38;5;124mf\u001b[39m\u001b[38;5;124m\"\u001b[39m\u001b[38;5;124mRetrying in \u001b[39m\u001b[38;5;132;01m{\u001b[39;00m\u001b[38;5;28mself\u001b[39m\u001b[38;5;241m.\u001b[39msleep_max\u001b[38;5;132;01m}\u001b[39;00m\u001b[38;5;124m seconds\u001b[39m\u001b[38;5;124m\"\u001b[39m)\n\u001b[0;32m--> 638\u001b[0m     time\u001b[38;5;241m.\u001b[39msleep(\u001b[38;5;28mself\u001b[39m\u001b[38;5;241m.\u001b[39msleep_max)\n\u001b[1;32m    639\u001b[0m     \u001b[38;5;28mself\u001b[39m\u001b[38;5;241m.\u001b[39minfo(\u001b[38;5;124m\"\u001b[39m\u001b[38;5;124mRetrying now...\u001b[39m\u001b[38;5;124m\"\u001b[39m)\n\u001b[1;32m    640\u001b[0m \u001b[38;5;28;01melse\u001b[39;00m:\n",
      "\u001b[0;31mKeyboardInterrupt\u001b[0m: "
     ]
    }
   ],
   "source": [
    "#from ecmwfapi import ECMWFDataServer\n",
    "# To run this example, you need an API key\n",
    "# available from https://api.ecmwf.int/v1/key/\n",
    "\n",
    "# cred = {\n",
    "#     \"url\"   : \"https://api.ecmwf.int/v1\",\n",
    "#     \"key\"   : \"4b845b5cf1e2835addc90aac7ac33047\",\n",
    "#     \"email\" : \"gupt1075@purdue.edu\"\n",
    "# }\n",
    "\n",
    "\n",
    "# server = ECMWFDataServer()\n",
    "# server.retrieve({\n",
    "#     'origin'    : \"ecmf\",\n",
    "#     'levtype'   : \"sfc\",\n",
    "#     'number'    : \"1\",\n",
    "#     'expver'    : \"prod\",\n",
    "#     'dataset'   : \"tigge\",\n",
    "#     'step'      : \"0/6/12/18\",\n",
    "#     'area'      : \"70/-130/30/-60\",\n",
    "#     'grid'      : \"2/2\",\n",
    "#     'param'     : \"167\",\n",
    "#     'time'      : \"00/12\",\n",
    "#     'date'      : \"2014-11-01\",\n",
    "#     'type'      : \"pf\",\n",
    "#     'class'     : \"ti\",\n",
    "#     'target'    : \"tigge_2014-11-01_0012.grib\"\n",
    "# })\n",
    "import cdsapi\n",
    "#api = { \"url\": \"https://cds.climate.copernicus.eu/api/v2\", \"key\": \"262708:87969e83-ce6a-48aa-afc7-e354a87d7de1\"}\n",
    "\n",
    "c = cdsapi.Client()\n",
    "out = c.retrieve(\"reanalysis-era5-pressure-levels\",\n",
    "{\n",
    "\"variable\": \"temperature\",\n",
    "\"pressure_level\": \"1000\",\n",
    "\"product_type\": \"reanalysis\",\n",
    "\"year\": \"2008\",\n",
    "\"month\": \"01\",\n",
    "\"day\": \"01\",\n",
    "\"time\": \"12:00\",\n",
    "\"format\": \"grib\"\n",
    "}, \"download.grib\")"
   ]
  },
  {
   "cell_type": "code",
   "execution_count": null,
   "id": "8d0e2f53-efd9-497c-b996-682b9fb5ec13",
   "metadata": {},
   "outputs": [],
   "source": [
    "import cdsapi\n",
    "\n",
    "c = cdsapi.Client()\n",
    "\n",
    "c.retrieve(\n",
    "    'reanalysis-era5-single-levels',\n",
    "    {\n",
    "        'product_type': 'reanalysis',\n",
    "        'format': 'netcdf',\n",
    "        'variable': [\n",
    "            '10m_u_component_of_wind', '10m_v_component_of_wind', '2m_temperature',\n",
    "            'mean_sea_level_pressure', 'surface_pressure', 'total_column_water_vapour',\n",
    "        ],\n",
    "        'year': '2021',\n",
    "        'month': '10',\n",
    "        'day': [\n",
    "            '19', '20', '21',\n",
    "            '22', '23', '24',\n",
    "            '25', '26', '27',\n",
    "            '28', '29', '30',\n",
    "            '31',\n",
    "        ],\n",
    "        'time': [\n",
    "            '00:00', '06:00', '12:00',\n",
    "            '18:00',\n",
    "        ],\n",
    "    },\n",
    "    '/project/projectdirs/dasrepo/ERA5/oct_2021_19_31_sfc.nc')\n",
    "\n",
    "\n",
    "#    '/project/projectdirs/dasrepo/ERA5/oct_2021_19_31_pl.nc')\n"
   ]
  }
 ],
 "metadata": {
  "kernelspec": {
   "display_name": "chirain_pytorch",
   "language": "python",
   "name": "chirain_pytorch"
  },
  "language_info": {
   "codemirror_mode": {
    "name": "ipython",
    "version": 3
   },
   "file_extension": ".py",
   "mimetype": "text/x-python",
   "name": "python",
   "nbconvert_exporter": "python",
   "pygments_lexer": "ipython3",
   "version": "3.11.4"
  }
 },
 "nbformat": 4,
 "nbformat_minor": 5
}
