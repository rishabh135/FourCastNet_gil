{
 "cells": [
  {
   "cell_type": "code",
   "execution_count": null,
   "id": "8367318e-b74f-4c59-9505-7fcbadc21c5f",
   "metadata": {},
   "outputs": [],
   "source": [
    "import h5py\n",
    "import numpy as np\n",
    "import sys, os\n",
    "\n",
    "# from matplotlib import animation\n",
    "import matplotlib.animation\n",
    "import matplotlib.pyplot as plt\n",
    "import numpy as np\n",
    "plt.rcParams[\"animation.html\"] = \"jshtml\"\n",
    "plt.rcParams['figure.dpi'] = 150  \n",
    "plt.ioff()\n",
    "plt.rcParams['animation.ffmpeg_path'] = '/home/gupt1075/FourCastNet/'\n"
   ]
  },
  {
   "cell_type": "code",
   "execution_count": null,
   "id": "f70ce623-771f-45b8-99db-f5da2bf8b511",
   "metadata": {},
   "outputs": [],
   "source": [
    "\n",
    "path = \"/scratch/gilbreth/wwtung/FourCastNet/data/FCN_ERA5_data_v0/train/\"\n",
    "filename = os.path.join(path,\"1979.h5\")\n",
    "filename2 = \"/scratch/gilbreth/wwtung/ERA5_expts_gtc/autoregressive_predictions_z500.h5\"\n",
    "\n"
   ]
  },
  {
   "cell_type": "code",
   "execution_count": null,
   "id": "d498a9e3-3367-44b2-a031-aea20db3a706",
   "metadata": {},
   "outputs": [],
   "source": [
    "with h5py.File(filename, 'r') as hf:\n",
    "    print(hf.keys())\n",
    "    data = hf['fields']\n",
    "    print(data.shape)\n",
    "    pred = data[0,0]\n",
    "    tar = data[0,1]\n",
    "    fig, ax = plt.subplots(2, 1, figsize=(24,12))\n",
    "    ax[0].imshow(pred, cmap=\"coolwarm\")\n",
    "    ax[0].set_title(\"tp pred\")\n",
    "    ax[1].imshow(tar, cmap=\"coolwarm\")\n",
    "    ax[1].set_title(\"tp tar\")\n",
    "    fig.tight_layout()\n",
    "    plt.savefig(\"./snapshots_ERA5.png\", dpi = 400)"
   ]
  }
 ],
 "metadata": {
  "kernelspec": {
   "display_name": "Python 3.9 (Default)",
   "language": "python",
   "name": "python3"
  },
  "language_info": {
   "codemirror_mode": {
    "name": "ipython",
    "version": 3
   },
   "file_extension": ".py",
   "mimetype": "text/x-python",
   "name": "python",
   "nbconvert_exporter": "python",
   "pygments_lexer": "ipython3",
   "version": "3.9.7"
  }
 },
 "nbformat": 4,
 "nbformat_minor": 5
}
